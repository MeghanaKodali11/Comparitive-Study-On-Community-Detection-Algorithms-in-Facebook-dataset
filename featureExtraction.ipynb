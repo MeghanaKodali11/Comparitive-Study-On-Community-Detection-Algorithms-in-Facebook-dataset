{
 "cells": [
  {
   "cell_type": "code",
   "execution_count": 6,
   "metadata": {},
   "outputs": [],
   "source": [
    "import os\n",
    "import os.path\n",
    "import gzip\n",
    "import re\n",
    "import numpy as np"
   ]
  },
  {
   "cell_type": "code",
   "execution_count": 7,
   "metadata": {},
   "outputs": [],
   "source": [
    "def read_gz_file(path):  \n",
    "    if os.path.exists(path):  \n",
    "        with gzip.open(path, 'r') as pf:  \n",
    "            for line in pf:  \n",
    "                yield line  \n",
    "    else:  \n",
    "        print('the path [{}] is not exist!'.format(path)) "
   ]
  },
  {
   "cell_type": "code",
   "execution_count": 9,
   "metadata": {},
   "outputs": [],
   "source": [
    "fpath = \"./dataset/facebook/\"\n",
    "egos = ['0','107','348','414','686','698','1684','1912','3437','3980']\n",
    "nodeNum = 4039"
   ]
  },
  {
   "cell_type": "code",
   "execution_count": 10,
   "metadata": {},
   "outputs": [],
   "source": [
    "###  feature name and its id\n",
    "feat2Idx = {}\n",
    "idx = 0\n",
    "for ego in egos:\n",
    "    featureFile = fpath+ego+\".featnames\"\n",
    "    f = open(featureFile,'r')\n",
    "    for line in f:\n",
    "        #print line\n",
    "        feat = ' '.join(line.split()[1:])\n",
    "        if feat not in feat2Idx:\n",
    "#             print feat\n",
    "            feat2Idx[feat] = idx\n",
    "            idx += 1\n",
    "    f.close()\n",
    "\n",
    "        "
   ]
  },
  {
   "cell_type": "code",
   "execution_count": 11,
   "metadata": {},
   "outputs": [
    {
     "name": "stdout",
     "output_type": "stream",
     "text": [
      "1406\n"
     ]
    }
   ],
   "source": [
    "### number of feature\n",
    "sizeFeature = len(feat2Idx.keys())\n",
    "print(sizeFeature)"
   ]
  },
  {
   "cell_type": "code",
   "execution_count": 12,
   "metadata": {},
   "outputs": [],
   "source": [
    "###  get feature of each node\n",
    "featureOfNode = {}\n",
    "for i in range(nodeNum):\n",
    "    featureOfNode[i]=[0]*sizeFeature\n",
    "\n",
    "for ego in egos:\n",
    "    featureFile = fpath+ego+\".featnames\"\n",
    "    fMap = []\n",
    "    f = open(featureFile,'r')\n",
    "    for line in f:\n",
    "        feat = ' '.join(line.split()[1:])\n",
    "        fMap.append(feat2Idx[feat])\n",
    "    f.close()\n",
    "    \n",
    "    featureOfNodeFile = fpath+ego+\".feat\"\n",
    "    f = open(featureOfNodeFile,'r')\n",
    "    for line in f:\n",
    "        m = line.split()\n",
    "        node = int(m[0])\n",
    "        for i in range(1,len(m)):\n",
    "            if (m[i]=='1'):\n",
    "                featureOfNode[node][fMap[i-1]] = 1\n",
    "    f.close()\n",
    "    \n",
    "    featureOfEgoFile = fpath+ego+\".egofeat\"\n",
    "    f = open(featureOfEgoFile,'r')\n",
    "    for line in f:\n",
    "        m = line.split()\n",
    "        node = int(m[0])\n",
    "        for i in range(1,len(m)):\n",
    "            if (m[i]=='1'):\n",
    "                featureOfNode[node][fMap[i-1]] = 1\n",
    "    f.close()"
   ]
  },
  {
   "cell_type": "code",
   "execution_count": 13,
   "metadata": {},
   "outputs": [],
   "source": [
    "### write to file\n",
    "lines = []\n",
    "for i in range(len(featureOfNode)):\n",
    "    s = \"\"\n",
    "    s += str(i)\n",
    "    for feat in featureOfNode[i]:\n",
    "        s = s+' '+str(feat)\n",
    "    s+='\\n'\n",
    "    lines.append(s)\n",
    "featureOfNodeFile = fpath+'feature.txt'\n",
    "f = open(featureOfNodeFile,'w')\n",
    "f.writelines(lines)\n",
    "f.close()\n"
   ]
  },
  {
   "cell_type": "code",
   "execution_count": 15,
   "metadata": {},
   "outputs": [
    {
     "data": {
      "text/plain": [
       "4039"
      ]
     },
     "execution_count": 15,
     "metadata": {},
     "output_type": "execute_result"
    }
   ],
   "source": [
    "len(featureOfNode.values())"
   ]
  },
  {
   "cell_type": "code",
   "execution_count": null,
   "metadata": {
    "collapsed": true
   },
   "outputs": [],
   "source": []
  }
 ],
 "metadata": {
  "kernelspec": {
   "display_name": "Python 3",
   "language": "python",
   "name": "python3"
  },
  "language_info": {
   "codemirror_mode": {
    "name": "ipython",
    "version": 3
   },
   "file_extension": ".py",
   "mimetype": "text/x-python",
   "name": "python",
   "nbconvert_exporter": "python",
   "pygments_lexer": "ipython3",
   "version": "3.8.3"
  }
 },
 "nbformat": 4,
 "nbformat_minor": 2
}
